{
 "cells": [
  {
   "cell_type": "code",
   "execution_count": 1,
   "metadata": {},
   "outputs": [],
   "source": [
    "import pandas as pd\n",
    "from concurrent.futures import ThreadPoolExecutor\n",
    "\n",
    "\n",
    "data = pd.read_csv('/workspaces/AdvPython_HW1/temperature_data.csv')"
   ]
  },
  {
   "cell_type": "code",
   "execution_count": 9,
   "metadata": {},
   "outputs": [],
   "source": [
    "def process_temperature_data(data):\n",
    "    results = []\n",
    "    cities = data['city'].unique()\n",
    "    for city in cities:\n",
    "        city_data = data[data['city'] == city]\n",
    "        city_data['rolling_mean'] = city_data['temperature'].rolling(window=30).mean()\n",
    "        city_data['rolling_std'] = city_data['temperature'].rolling(window=30).std()\n",
    "        mean_temp = city_data['temperature'].mean()\n",
    "        std_temp = city_data['temperature'].std()\n",
    "        anomalies = city_data[(city_data['temperature'] - city_data['rolling_mean']).abs() > 2 * city_data['rolling_std']]\n",
    "        for season in city_data.season.unique():\n",
    "            city_data_season = city_data.loc[city_data.season == season]\n",
    "        results.append({\n",
    "            'city': city,\n",
    "            'average': mean_temp,\n",
    "            'min': city_data['temperature'].min(),\n",
    "            'max': city_data['temperature'].max(),\n",
    "            'season_avg': [city_data.loc[city_data.season == season]['temperature'].mean() for season in city_data.season.unique()],\n",
    "            'season_std': [city_data.loc[city_data.season == season]['temperature'].std() for season in city_data.season.unique()],\n",
    "            'trend': 'нормальный' if mean_temp > 0 else 'понижающийся',\n",
    "            'anomalies': anomalies\n",
    "        })\n",
    "    return results"
   ]
  },
  {
   "cell_type": "code",
   "execution_count": 10,
   "metadata": {},
   "outputs": [
    {
     "name": "stdout",
     "output_type": "stream",
     "text": [
      "234 ms ± 12.4 ms per loop (mean ± std. dev. of 7 runs, 1 loop each)\n"
     ]
    }
   ],
   "source": [
    "%%timeit\n",
    "with ThreadPoolExecutor() as executor:\n",
    "    analysis_results = list(executor.map(process_temperature_data, [data[data['city'] == city] for city in data['city'].unique().tolist()]))"
   ]
  },
  {
   "cell_type": "code",
   "execution_count": 11,
   "metadata": {},
   "outputs": [
    {
     "name": "stdout",
     "output_type": "stream",
     "text": [
      "182 ms ± 6.66 ms per loop (mean ± std. dev. of 7 runs, 1 loop each)\n"
     ]
    }
   ],
   "source": [
    "%%timeit\n",
    "analysis_results = [process_temperature_data(data[data['city'] == city]) for city in data['city'].unique().tolist()]"
   ]
  },
  {
   "cell_type": "code",
   "execution_count": 12,
   "metadata": {},
   "outputs": [],
   "source": [
    "data_x100 = pd.concat([data]*100)"
   ]
  },
  {
   "cell_type": "code",
   "execution_count": 13,
   "metadata": {},
   "outputs": [
    {
     "name": "stdout",
     "output_type": "stream",
     "text": [
      "11 s ± 40 ms per loop (mean ± std. dev. of 7 runs, 1 loop each)\n"
     ]
    }
   ],
   "source": [
    "%%timeit\n",
    "with ThreadPoolExecutor() as executor:\n",
    "    analysis_results = list(executor.map(process_temperature_data, [data_x100[data_x100['city'] == city] for city in data_x100['city'].unique().tolist()]))"
   ]
  },
  {
   "cell_type": "code",
   "execution_count": 14,
   "metadata": {},
   "outputs": [
    {
     "name": "stdout",
     "output_type": "stream",
     "text": [
      "11.9 s ± 66 ms per loop (mean ± std. dev. of 7 runs, 1 loop each)\n"
     ]
    }
   ],
   "source": [
    "%%timeit\n",
    "analysis_results = [process_temperature_data(data_x100[data_x100['city'] == city]) for city in data_x100['city'].unique().tolist()]"
   ]
  },
  {
   "cell_type": "code",
   "execution_count": 15,
   "metadata": {},
   "outputs": [],
   "source": [
    "def process_temperature_data_v2(data):\n",
    "    results = []\n",
    "    cities = data['city'].unique()\n",
    "    for city in cities:\n",
    "        city_data = data[data['city'] == city]\n",
    "        city_data['rolling_mean'] = city_data['temperature'].rolling(window=30).mean()\n",
    "        city_data['rolling_std'] = city_data['temperature'].rolling(window=30).std()\n",
    "        mean_temp = city_data['temperature'].mean()\n",
    "        std_temp = city_data['temperature'].std()\n",
    "        anomalies = city_data[(city_data['temperature'] - city_data['rolling_mean']).abs() > 2 * city_data['rolling_std']]\n",
    "        for season in city_data.season.unique():\n",
    "            city_data_season = city_data.loc[city_data.season == season]\n",
    "        results.append({\n",
    "            'city': city,\n",
    "            'average': mean_temp,\n",
    "            'min': city_data['temperature'].min(),\n",
    "            'max': city_data['temperature'].max(),\n",
    "            'season_avg': city_data.groupby('season')['temperature'].mean(),\n",
    "            'season_std': city_data.groupby('season')['temperature'].std(),\n",
    "            'trend': 'нормальный' if mean_temp > 0 else 'понижающийся',\n",
    "            'anomalies': anomalies\n",
    "        })\n",
    "    return results"
   ]
  },
  {
   "cell_type": "code",
   "execution_count": 16,
   "metadata": {},
   "outputs": [
    {
     "name": "stdout",
     "output_type": "stream",
     "text": [
      "156 ms ± 4.47 ms per loop (mean ± std. dev. of 7 runs, 10 loops each)\n"
     ]
    }
   ],
   "source": [
    "%%timeit\n",
    "with ThreadPoolExecutor() as executor:\n",
    "    analysis_results = list(executor.map(process_temperature_data_v2, [data[data['city'] == city] for city in data['city'].unique().tolist()]))"
   ]
  },
  {
   "cell_type": "code",
   "execution_count": 17,
   "metadata": {},
   "outputs": [
    {
     "name": "stdout",
     "output_type": "stream",
     "text": [
      "140 ms ± 8.64 ms per loop (mean ± std. dev. of 7 runs, 10 loops each)\n"
     ]
    }
   ],
   "source": [
    "%%timeit\n",
    "analysis_results = [process_temperature_data_v2(data[data['city'] == city]) for city in data['city'].unique().tolist()]"
   ]
  },
  {
   "cell_type": "code",
   "execution_count": 18,
   "metadata": {},
   "outputs": [
    {
     "name": "stdout",
     "output_type": "stream",
     "text": [
      "8.42 s ± 243 ms per loop (mean ± std. dev. of 7 runs, 1 loop each)\n"
     ]
    }
   ],
   "source": [
    "%%timeit\n",
    "with ThreadPoolExecutor() as executor:\n",
    "    analysis_results = list(executor.map(process_temperature_data_v2, [data_x100[data_x100['city'] == city] for city in data_x100['city'].unique().tolist()]))"
   ]
  },
  {
   "cell_type": "code",
   "execution_count": 19,
   "metadata": {},
   "outputs": [
    {
     "name": "stdout",
     "output_type": "stream",
     "text": [
      "9.13 s ± 226 ms per loop (mean ± std. dev. of 7 runs, 1 loop each)\n"
     ]
    }
   ],
   "source": [
    "%%timeit\n",
    "analysis_results = [process_temperature_data_v2(data_x100[data_x100['city'] == city]) for city in data_x100['city'].unique().tolist()]"
   ]
  },
  {
   "cell_type": "markdown",
   "metadata": {},
   "source": [
    "На меленьком сете распараллеливания замедляют, чем больше сет, тем более выгодно параллельно выполнять  \n",
    "Лимитирующей стадией является рассчет статистик по сезоном (около 25% ускорения)\n",
    "groupby в падас написан на C и работает очень быстро. Для умеренного размера датасетов лучше использовать pandas полностью. И потом конкатенировать результаты. "
   ]
  },
  {
   "cell_type": "code",
   "execution_count": null,
   "metadata": {},
   "outputs": [],
   "source": []
  }
 ],
 "metadata": {
  "kernelspec": {
   "display_name": "Python 3",
   "language": "python",
   "name": "python3"
  },
  "language_info": {
   "codemirror_mode": {
    "name": "ipython",
    "version": 3
   },
   "file_extension": ".py",
   "mimetype": "text/x-python",
   "name": "python",
   "nbconvert_exporter": "python",
   "pygments_lexer": "ipython3",
   "version": "3.12.1"
  }
 },
 "nbformat": 4,
 "nbformat_minor": 2
}
