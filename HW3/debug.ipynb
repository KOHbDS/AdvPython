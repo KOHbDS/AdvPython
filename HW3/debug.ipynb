{
 "cells": [
  {
   "cell_type": "code",
   "execution_count": 51,
   "metadata": {},
   "outputs": [],
   "source": [
    "# Импорт необходимых библиотек\n",
    "import requests\n",
    "import json\n",
    "import time\n",
    "from datetime import datetime, timedelta\n",
    "import pandas as pd\n",
    "import matplotlib.pyplot as plt\n",
    "from IPython.display import display, HTML\n",
    "import uuid\n",
    "\n",
    "# Базовый URL нашего API\n",
    "BASE_URL = \"http://localhost:8000\"  # Измените на фактический URL, если сервис запущен не локально\n"
   ]
  },
  {
   "cell_type": "code",
   "execution_count": 52,
   "metadata": {},
   "outputs": [
    {
     "data": {
      "text/html": [
       "<h3>1. Регистрация пользователя</h3>"
      ],
      "text/plain": [
       "<IPython.core.display.HTML object>"
      ]
     },
     "metadata": {},
     "output_type": "display_data"
    },
    {
     "name": "stdout",
     "output_type": "stream",
     "text": [
      "Status Code: 200\n"
     ]
    },
    {
     "data": {
      "text/html": [
       "<div>\n",
       "<style scoped>\n",
       "    .dataframe tbody tr th:only-of-type {\n",
       "        vertical-align: middle;\n",
       "    }\n",
       "\n",
       "    .dataframe tbody tr th {\n",
       "        vertical-align: top;\n",
       "    }\n",
       "\n",
       "    .dataframe thead th {\n",
       "        text-align: right;\n",
       "    }\n",
       "</style>\n",
       "<table border=\"1\" class=\"dataframe\">\n",
       "  <thead>\n",
       "    <tr style=\"text-align: right;\">\n",
       "      <th></th>\n",
       "      <th>username</th>\n",
       "      <th>email</th>\n",
       "      <th>id</th>\n",
       "      <th>created_at</th>\n",
       "    </tr>\n",
       "  </thead>\n",
       "  <tbody>\n",
       "    <tr>\n",
       "      <th>0</th>\n",
       "      <td>testuser_1742942074</td>\n",
       "      <td>testuser_1742942074@example.com</td>\n",
       "      <td>9</td>\n",
       "      <td>2025-03-25T22:34:34.309614+00:00</td>\n",
       "    </tr>\n",
       "  </tbody>\n",
       "</table>\n",
       "</div>"
      ],
      "text/plain": [
       "              username                            email  id  \\\n",
       "0  testuser_1742942074  testuser_1742942074@example.com   9   \n",
       "\n",
       "                         created_at  \n",
       "0  2025-03-25T22:34:34.309614+00:00  "
      ]
     },
     "metadata": {},
     "output_type": "display_data"
    },
    {
     "data": {
      "text/html": [
       "<h3>Получение токена</h3>"
      ],
      "text/plain": [
       "<IPython.core.display.HTML object>"
      ]
     },
     "metadata": {},
     "output_type": "display_data"
    },
    {
     "name": "stdout",
     "output_type": "stream",
     "text": [
      "Status Code: 200\n"
     ]
    },
    {
     "data": {
      "text/html": [
       "<div>\n",
       "<style scoped>\n",
       "    .dataframe tbody tr th:only-of-type {\n",
       "        vertical-align: middle;\n",
       "    }\n",
       "\n",
       "    .dataframe tbody tr th {\n",
       "        vertical-align: top;\n",
       "    }\n",
       "\n",
       "    .dataframe thead th {\n",
       "        text-align: right;\n",
       "    }\n",
       "</style>\n",
       "<table border=\"1\" class=\"dataframe\">\n",
       "  <thead>\n",
       "    <tr style=\"text-align: right;\">\n",
       "      <th></th>\n",
       "      <th>access_token</th>\n",
       "      <th>token_type</th>\n",
       "    </tr>\n",
       "  </thead>\n",
       "  <tbody>\n",
       "    <tr>\n",
       "      <th>0</th>\n",
       "      <td>eyJhbGciOiJIUzI1NiIsInR5cCI6IkpXVCJ9.eyJzdWIiO...</td>\n",
       "      <td>bearer</td>\n",
       "    </tr>\n",
       "  </tbody>\n",
       "</table>\n",
       "</div>"
      ],
      "text/plain": [
       "                                        access_token token_type\n",
       "0  eyJhbGciOiJIUzI1NiIsInR5cCI6IkpXVCJ9.eyJzdWIiO...     bearer"
      ]
     },
     "metadata": {},
     "output_type": "display_data"
    },
    {
     "name": "stdout",
     "output_type": "stream",
     "text": [
      "Токен получен и сохранен для дальнейшего использования\n"
     ]
    }
   ],
   "source": [
    "# 1. Тестирование регистрации пользователя\n",
    "def test_user_registration():\n",
    "    global token\n",
    "    \n",
    "    # Создаем уникальное имя пользователя\n",
    "    username = f\"testuser_{int(time.time())}\"\n",
    "    \n",
    "    # Данные для регистрации\n",
    "    user_data = {\n",
    "        \"username\": username,\n",
    "        \"email\": f\"{username}@example.com\",\n",
    "        \"password\": \"password123\"\n",
    "    }\n",
    "    \n",
    "    # Отправляем запрос на регистрацию\n",
    "    response = requests.post(f\"{BASE_URL}/users/\", json=user_data)\n",
    "    display_response(response, \"1. Регистрация пользователя\")\n",
    "    \n",
    "    # Запрашиваем токен для аутентификации\n",
    "    token_data = {\n",
    "        \"username\": username,\n",
    "        \"password\": \"password123\"\n",
    "    }\n",
    "    token_response = requests.post(\n",
    "        f\"{BASE_URL}/token\", \n",
    "        data=token_data,\n",
    "        headers={\"Content-Type\": \"application/x-www-form-urlencoded\"}\n",
    "    )\n",
    "    display_response(token_response, \"Получение токена\")\n",
    "    \n",
    "    # Сохраняем токен для последующих запросов\n",
    "    if token_response.status_code == 200:\n",
    "        token = token_response.json()[\"access_token\"]\n",
    "        print(f\"Токен получен и сохранен для дальнейшего использования\")\n",
    "    \n",
    "    return username\n",
    "\n",
    "# Запускаем тест регистрации\n",
    "test_username = test_user_registration()"
   ]
  },
  {
   "cell_type": "code",
   "execution_count": 53,
   "metadata": {},
   "outputs": [],
   "source": [
    "# 1. Тестирование регистрации пользователя\n",
    "def test_user_registration():\n",
    "    global token\n",
    "    \n",
    "    # Создаем уникальное имя пользователя\n",
    "    username = f\"testuser_{int(time.time())}\"\n",
    "    \n",
    "    # Данные для регистрации\n",
    "    user_data = {\n",
    "        \"username\": username,\n",
    "        \"email\": f\"{username}@example.com\",\n",
    "        \"password\": \"password123\"\n",
    "    }\n",
    "    \n",
    "    # Отправляем запрос на регистрацию\n",
    "    response = requests.post(f\"{BASE_URL}/users/\", json=user_data)\n",
    "    display_response(response, \"1. Регистрация пользователя\")\n",
    "    \n",
    "    # Запрашиваем токен для аутентификации\n",
    "    token_data = {\n",
    "        \"username\": username,\n",
    "        \"password\": \"password123\"\n",
    "    }\n",
    "    token_response = requests.post(\n",
    "        f\"{BASE_URL}/token\", \n",
    "        data=token_data,\n",
    "        headers={\"Content-Type\": \"application/x-www-form-urlencoded\"}\n",
    "    )\n",
    "    display_response(token_response, \"Получение токена\")\n",
    "    \n",
    "    # Сохраняем токен для последующих запросов\n",
    "    if token_response.status_code == 200:\n",
    "        token = token_response.json()[\"access_token\"]\n",
    "        print(f\"Токен получен и сохранен для дальнейшего использования\")\n",
    "    \n",
    "    return username\n",
    "\n",
    "\n",
    "# 2. Тестирование создания короткой ссылки\n",
    "def test_create_short_link():\n",
    "    # Проверяем, есть ли токен\n",
    "    if not token:\n",
    "        print(\"Токен не получен. Пожалуйста, сначала выполните регистрацию.\")\n",
    "        return\n",
    "    \n",
    "    # Создаем уникальный alias\n",
    "    unique_alias = f\"example_{uuid.uuid4().hex[:8]}\"\n",
    "    \n",
    "    # Данные для создания короткой ссылки\n",
    "    link_data = {\n",
    "        \"original_url\": \"https://www.example.com/very/long/url/that/needs/shortening\",\n",
    "        \"custom_alias\": unique_alias\n",
    "    }\n",
    "    \n",
    "    # Заголовки с токеном авторизации\n",
    "    headers = {\n",
    "        \"Authorization\": f\"Bearer {token}\",\n",
    "        \"Content-Type\": \"application/json\"\n",
    "    }\n",
    "    \n",
    "    # Отправляем запрос на создание короткой ссылки\n",
    "    response = requests.post(f\"{BASE_URL}/links/shorten\", json=link_data, headers=headers)\n",
    "    display_response(response, f\"2. Создание короткой ссылки с кастомным alias '{unique_alias}'\")\n",
    "    \n",
    "    # Получаем короткий код из ответа\n",
    "    if response.status_code == 200:\n",
    "        short_code = response.json()[\"short_code\"]\n",
    "        return short_code\n",
    "\n",
    "# 3. Создание ссылки с временем жизни\n",
    "def test_create_link_with_expiry():\n",
    "    if not token:\n",
    "        print(\"Токен не получен. Пожалуйста, сначала выполните регистрацию.\")\n",
    "        return\n",
    "    \n",
    "    # Устанавливаем время жизни ссылки (например, 1 час от текущего времени)\n",
    "    # Используем правильный формат ISO 8601\n",
    "    expiry_time = (datetime.now() + timedelta(hours=1)).isoformat()\n",
    "    \n",
    "    # Данные для создания короткой ссылки с временем жизни\n",
    "    link_data = {\n",
    "        \"original_url\": \"https://www.example.com/temporary/link\",\n",
    "        \"expires_at\": expiry_time\n",
    "    }\n",
    "    \n",
    "    # Выводим данные для отладки\n",
    "    print(f\"Отправляемые данные: {json.dumps(link_data, default=str)}\")\n",
    "    \n",
    "    # Заголовки с токеном авторизации\n",
    "    headers = {\n",
    "        \"Authorization\": f\"Bearer {token}\",\n",
    "        \"Content-Type\": \"application/json\"\n",
    "    }\n",
    "    \n",
    "    # Отправляем запрос на создание короткой ссылки с временем жизни\n",
    "    response = requests.post(f\"{BASE_URL}/links/shorten\", json=link_data, headers=headers)\n",
    "    display_response(response, \"3. Создание ссылки с временем жизни\")\n",
    "    \n",
    "    # Получаем короткий код из ответа\n",
    "    if response.status_code == 200:\n",
    "        short_code = response.json()[\"short_code\"]\n",
    "        return short_code\n",
    "    else:\n",
    "        # Выводим более подробную информацию об ошибке\n",
    "        print(f\"Ошибка создания ссылки с временем жизни: {response.text}\")\n",
    "        return None\n",
    "\n",
    "\n",
    "# 4. Тестирование получения информации о ссылке\n",
    "def test_get_link_info(short_code):\n",
    "    if not short_code:\n",
    "        print(\"Короткий код не получен. Пожалуйста, сначала создайте ссылку.\")\n",
    "        return\n",
    "    \n",
    "    # Заголовки с токеном авторизации\n",
    "    headers = {\n",
    "        \"Authorization\": f\"Bearer {token}\"\n",
    "    }\n",
    "    \n",
    "    # Отправляем запрос на получение информации о ссылке\n",
    "    response = requests.get(f\"{BASE_URL}/links/{short_code}\", headers=headers)\n",
    "    display_response(response, f\"4. Получение информации о ссылке {short_code}\")\n",
    "    return response.status_code == 200\n",
    "\n",
    "# 5. Тестирование получения статистики по ссылке\n",
    "def test_get_link_stats(short_code):\n",
    "    if not short_code:\n",
    "        print(\"Короткий код не получен. Пожалуйста, сначала создайте ссылку.\")\n",
    "        return\n",
    "    \n",
    "    # Заголовки с токеном авторизации\n",
    "    headers = {\n",
    "        \"Authorization\": f\"Bearer {token}\"\n",
    "    }\n",
    "    \n",
    "    # Отправляем запрос на получение статистики по ссылке\n",
    "    response = requests.get(f\"{BASE_URL}/links/{short_code}/stats\", headers=headers)\n",
    "    display_response(response, f\"5. Получение статистики по ссылке {short_code}\")\n",
    "    return response.status_code == 200\n",
    "\n",
    "# 6. Тестирование перенаправления по короткой ссылке\n",
    "def test_redirect(short_code):\n",
    "    if not short_code:\n",
    "        print(\"Короткий код не получен. Пожалуйста, сначала создайте ссылку.\")\n",
    "        return\n",
    "    \n",
    "    # Отправляем запрос на перенаправление (с параметром allow_redirects=False, чтобы увидеть ответ с перенаправлением)\n",
    "    response = requests.get(f\"{BASE_URL}/{short_code}\", allow_redirects=False)\n",
    "    \n",
    "    # Выводим информацию о перенаправлении\n",
    "    print(f\"6. Перенаправление по короткой ссылке {short_code}\")\n",
    "    print(f\"Status Code: {response.status_code}\")\n",
    "    print(f\"Location: {response.headers.get('Location', 'No redirect location')}\")\n",
    "    \n",
    "    # Проверяем, что статус-код соответствует перенаправлению\n",
    "    if 300 <= response.status_code < 400:\n",
    "        print(\"Успешное перенаправление!\")\n",
    "        return True\n",
    "    else:\n",
    "        print(\"Ошибка перенаправления.\")\n",
    "        return False\n",
    "\n",
    "# 7. Тестирование обновления ссылки\n",
    "def test_update_link(short_code):\n",
    "    if not short_code or not token:\n",
    "        print(\"Короткий код или токен не получены. Пожалуйста, сначала создайте ссылку и авторизуйтесь.\")\n",
    "        return\n",
    "    \n",
    "    # Данные для обновления ссылки\n",
    "    update_data = {\n",
    "        \"original_url\": \"https://www.example.com/updated/url\"\n",
    "    }\n",
    "    \n",
    "    # Заголовки с токеном авторизации\n",
    "    headers = {\n",
    "        \"Authorization\": f\"Bearer {token}\",\n",
    "        \"Content-Type\": \"application/json\"\n",
    "    }\n",
    "    \n",
    "    # Отправляем запрос на обновление ссылки\n",
    "    response = requests.put(f\"{BASE_URL}/links/{short_code}\", json=update_data, headers=headers)\n",
    "    display_response(response, f\"7. Обновление ссылки {short_code}\")\n",
    "    \n",
    "    # Проверяем, что ссылка обновилась\n",
    "    success = response.status_code == 200\n",
    "    if success:\n",
    "        # Проверим информацию об обновленной ссылке\n",
    "        test_get_link_info(short_code)\n",
    "    \n",
    "    return success\n",
    "\n",
    "# 8. Тестирование удаления ссылки\n",
    "def test_delete_link(short_code):\n",
    "    if not short_code or not token:\n",
    "        print(\"Короткий код или токен не получены. Пожалуйста, сначала создайте ссылку и авторизуйтесь.\")\n",
    "        return\n",
    "    \n",
    "    # Заголовки с токеном авторизации\n",
    "    headers = {\n",
    "        \"Authorization\": f\"Bearer {token}\"\n",
    "    }\n",
    "    \n",
    "    # Отправляем запрос на удаление ссылки\n",
    "    response = requests.delete(f\"{BASE_URL}/links/{short_code}\", headers=headers)\n",
    "    \n",
    "    # Выводим результат\n",
    "    print(f\"8. Удаление ссылки {short_code}\")\n",
    "    print(f\"Status Code: {response.status_code}\")\n",
    "    if response.status_code == 204:\n",
    "        print(\"Ссылка успешно удалена!\")\n",
    "        success = True\n",
    "    else:\n",
    "        print(f\"Ошибка при удалении ссылки: {response.text}\")\n",
    "        success = False\n",
    "    \n",
    "    # Проверяем, что ссылка действительно удалена\n",
    "    check_response = requests.get(f\"{BASE_URL}/links/{short_code}\", headers=headers)\n",
    "    if check_response.status_code == 404:\n",
    "        print(\"Подтверждено: ссылка не найдена после удаления.\")\n",
    "    else:\n",
    "        print(f\"Внимание: ссылка все еще доступна после удаления! Статус: {check_response.status_code}\")\n",
    "    \n",
    "    return success\n",
    "\n",
    "# 9. Тестирование поиска ссылки по оригинальному URL\n",
    "# Исправленный тест поиска ссылки по оригинальному URL\n",
    "# Обновленный тест поиска ссылки по оригинальному URL\n",
    "def test_search_by_original_url():\n",
    "    if not token:\n",
    "        print(\"Токен не получен. Пожалуйста, сначала выполните регистрацию.\")\n",
    "        return False\n",
    "    \n",
    "    # Создаем уникальную ссылку для поиска\n",
    "    unique_url = f\"https://www.example.com/unique/url/{uuid.uuid4().hex}\"\n",
    "    \n",
    "    # Данные для создания ссылки\n",
    "    link_data = {\n",
    "        \"original_url\": unique_url\n",
    "    }\n",
    "    \n",
    "    # Заголовки с токеном авторизации\n",
    "    headers = {\n",
    "        \"Authorization\": f\"Bearer {token}\",\n",
    "        \"Content-Type\": \"application/json\"\n",
    "    }\n",
    "    \n",
    "    # Сначала создаем ссылку\n",
    "    create_response = requests.post(f\"{BASE_URL}/links/shorten\", json=link_data, headers=headers)\n",
    "    display_response(create_response, \"Создание ссылки для поиска\")\n",
    "    \n",
    "    if create_response.status_code != 200:\n",
    "        print(\"Не удалось создать ссылку для поиска.\")\n",
    "        return False\n",
    "    \n",
    "    # Даем немного времени на обработку\n",
    "    time.sleep(1)\n",
    "    \n",
    "    # Используем новый эндпоинт для поиска\n",
    "    search_response = requests.get(f\"{BASE_URL}/search-url?url={unique_url}\", headers=headers)\n",
    "    display_response(search_response, \"9. Поиск ссылки по оригинальному URL (новый эндпоинт)\")\n",
    "    \n",
    "    return search_response.status_code == 200\n",
    "\n",
    "\n",
    "# 10. Тестирование получения истории истекших ссылок\n",
    "# Обновленный тест получения истории истекших ссылок\n",
    "def test_get_expired_links():\n",
    "    if not token:\n",
    "        print(\"Токен не получен. Пожалуйста, сначала выполните регистрацию.\")\n",
    "        return False\n",
    "    \n",
    "    # Создаем ссылку с очень коротким временем жизни (2 секунды)\n",
    "    expiry_time = (datetime.now() + timedelta(seconds=2)).isoformat()\n",
    "    \n",
    "    link_data = {\n",
    "        \"original_url\": \"https://example.com/expires-very-soon\",\n",
    "        \"expires_at\": expiry_time\n",
    "    }\n",
    "    \n",
    "    headers = {\n",
    "        \"Authorization\": f\"Bearer {token}\",\n",
    "        \"Content-Type\": \"application/json\"\n",
    "    }\n",
    "    \n",
    "    # Создаем ссылку\n",
    "    create_response = requests.post(f\"{BASE_URL}/links/shorten\", json=link_data, headers=headers)\n",
    "    display_response(create_response, \"Создание ссылки с очень коротким временем жизни\")\n",
    "    \n",
    "    if create_response.status_code != 200:\n",
    "        print(\"Не удалось создать ссылку с временем жизни.\")\n",
    "        return False\n",
    "    \n",
    "    # Ждем, пока истечет срок действия ссылки\n",
    "    print(\"Ожидаем истечения срока действия ссылки (3 секунды)...\")\n",
    "    time.sleep(3)\n",
    "    \n",
    "    # Используем новый эндпоинт для получения истории истекших ссылок\n",
    "    expired_response = requests.get(f\"{BASE_URL}/expired-links\", headers=headers)\n",
    "    display_response(expired_response, \"10. Получение истории истекших ссылок (новый эндпоинт)\")\n",
    "    \n",
    "    return expired_response.status_code == 200 and len(expired_response.json()) > 0\n",
    "\n",
    "# 11. Тестирование настройки автоматического удаления неиспользуемых ссылок\n",
    "def test_cleanup_unused_links():\n",
    "    if not token:\n",
    "        print(\"Токен не получен. Пожалуйста, сначала выполните регистрацию.\")\n",
    "        return\n",
    "    \n",
    "    # Заголовки с токеном авторизации\n",
    "    headers = {\n",
    "        \"Authorization\": f\"Bearer {token}\"\n",
    "    }\n",
    "    \n",
    "    # Отправляем запрос на настройку очистки\n",
    "    response = requests.post(f\"{BASE_URL}/links/cleanup?days=30\", headers=headers)\n",
    "    display_response(response, \"11. Настройка автоматического удаления неиспользуемых ссылок\")\n",
    "    \n",
    "    return response.status_code == 200\n",
    "\n",
    "# Для теста удаления создадим новую ссылку\n",
    "def create_link_for_deletion():\n",
    "    if not token:\n",
    "        print(\"Токен не получен. Пожалуйста, сначала выполните регистрацию.\")\n",
    "        return\n",
    "    \n",
    "    # Данные для создания короткой ссылки\n",
    "    link_data = {\n",
    "        \"original_url\": \"https://www.example.com/link/to/be/deleted\",\n",
    "        \"custom_alias\": f\"delete_{uuid.uuid4().hex[:8]}\"\n",
    "    }\n",
    "    \n",
    "    # Заголовки с токеном авторизации\n",
    "    headers = {\n",
    "        \"Authorization\": f\"Bearer {token}\",\n",
    "        \"Content-Type\": \"application/json\"\n",
    "    }\n",
    "    \n",
    "    # Отправляем запрос на создание короткой ссылки\n",
    "    response = requests.post(f\"{BASE_URL}/links/shorten\", json=link_data, headers=headers)\n",
    "    display_response(response, \"Создание ссылки для удаления\")\n",
    "    \n",
    "    # Получаем короткий код из ответа\n",
    "    if response.status_code == 200:\n",
    "        short_code = response.json()[\"short_code\"]\n",
    "        return short_code\n",
    "    return None\n",
    "\n",
    "\n"
   ]
  },
  {
   "cell_type": "code",
   "execution_count": 54,
   "metadata": {},
   "outputs": [
    {
     "name": "stdout",
     "output_type": "stream",
     "text": [
      "\n",
      "=== Тестирование получения информации и статистики ===\n"
     ]
    },
    {
     "data": {
      "text/html": [
       "<h3>4. Получение информации о ссылке example_8c449266</h3>"
      ],
      "text/plain": [
       "<IPython.core.display.HTML object>"
      ]
     },
     "metadata": {},
     "output_type": "display_data"
    },
    {
     "name": "stdout",
     "output_type": "stream",
     "text": [
      "Status Code: 200\n"
     ]
    },
    {
     "data": {
      "text/html": [
       "<div>\n",
       "<style scoped>\n",
       "    .dataframe tbody tr th:only-of-type {\n",
       "        vertical-align: middle;\n",
       "    }\n",
       "\n",
       "    .dataframe tbody tr th {\n",
       "        vertical-align: top;\n",
       "    }\n",
       "\n",
       "    .dataframe thead th {\n",
       "        text-align: right;\n",
       "    }\n",
       "</style>\n",
       "<table border=\"1\" class=\"dataframe\">\n",
       "  <thead>\n",
       "    <tr style=\"text-align: right;\">\n",
       "      <th></th>\n",
       "      <th>short_code</th>\n",
       "      <th>original_url</th>\n",
       "      <th>created_at</th>\n",
       "      <th>clicks</th>\n",
       "      <th>last_used</th>\n",
       "      <th>expires_at</th>\n",
       "      <th>owner_id</th>\n",
       "    </tr>\n",
       "  </thead>\n",
       "  <tbody>\n",
       "    <tr>\n",
       "      <th>0</th>\n",
       "      <td>example_8c449266</td>\n",
       "      <td>https://www.example.com/updated/url</td>\n",
       "      <td>2025-03-25T22:21:00.658219+00:00</td>\n",
       "      <td>1</td>\n",
       "      <td>2025-03-25T22:21:01.431557+00:00</td>\n",
       "      <td>None</td>\n",
       "      <td>8</td>\n",
       "    </tr>\n",
       "  </tbody>\n",
       "</table>\n",
       "</div>"
      ],
      "text/plain": [
       "         short_code                         original_url  \\\n",
       "0  example_8c449266  https://www.example.com/updated/url   \n",
       "\n",
       "                         created_at  clicks                         last_used  \\\n",
       "0  2025-03-25T22:21:00.658219+00:00       1  2025-03-25T22:21:01.431557+00:00   \n",
       "\n",
       "  expires_at  owner_id  \n",
       "0       None         8  "
      ]
     },
     "metadata": {},
     "output_type": "display_data"
    },
    {
     "data": {
      "text/html": [
       "<h3>5. Получение статистики по ссылке example_8c449266</h3>"
      ],
      "text/plain": [
       "<IPython.core.display.HTML object>"
      ]
     },
     "metadata": {},
     "output_type": "display_data"
    },
    {
     "name": "stdout",
     "output_type": "stream",
     "text": [
      "Status Code: 200\n"
     ]
    },
    {
     "data": {
      "text/html": [
       "<div>\n",
       "<style scoped>\n",
       "    .dataframe tbody tr th:only-of-type {\n",
       "        vertical-align: middle;\n",
       "    }\n",
       "\n",
       "    .dataframe tbody tr th {\n",
       "        vertical-align: top;\n",
       "    }\n",
       "\n",
       "    .dataframe thead th {\n",
       "        text-align: right;\n",
       "    }\n",
       "</style>\n",
       "<table border=\"1\" class=\"dataframe\">\n",
       "  <thead>\n",
       "    <tr style=\"text-align: right;\">\n",
       "      <th></th>\n",
       "      <th>short_code</th>\n",
       "      <th>original_url</th>\n",
       "      <th>created_at</th>\n",
       "      <th>clicks</th>\n",
       "      <th>last_used</th>\n",
       "      <th>expires_at</th>\n",
       "      <th>owner_id</th>\n",
       "    </tr>\n",
       "  </thead>\n",
       "  <tbody>\n",
       "    <tr>\n",
       "      <th>0</th>\n",
       "      <td>example_8c449266</td>\n",
       "      <td>https://www.example.com/updated/url</td>\n",
       "      <td>2025-03-25T22:21:00.658219+00:00</td>\n",
       "      <td>1</td>\n",
       "      <td>2025-03-25T22:21:01.431557+00:00</td>\n",
       "      <td>None</td>\n",
       "      <td>8</td>\n",
       "    </tr>\n",
       "  </tbody>\n",
       "</table>\n",
       "</div>"
      ],
      "text/plain": [
       "         short_code                         original_url  \\\n",
       "0  example_8c449266  https://www.example.com/updated/url   \n",
       "\n",
       "                         created_at  clicks                         last_used  \\\n",
       "0  2025-03-25T22:21:00.658219+00:00       1  2025-03-25T22:21:01.431557+00:00   \n",
       "\n",
       "  expires_at  owner_id  \n",
       "0       None         8  "
      ]
     },
     "metadata": {},
     "output_type": "display_data"
    },
    {
     "name": "stdout",
     "output_type": "stream",
     "text": [
      "\n",
      "=== Тестирование перенаправления ===\n",
      "6. Перенаправление по короткой ссылке example_8c449266\n",
      "Status Code: 500\n",
      "Location: No redirect location\n",
      "Ошибка перенаправления.\n",
      "\n",
      "=== Тестирование обновления ссылки ===\n"
     ]
    },
    {
     "data": {
      "text/html": [
       "<h3>7. Обновление ссылки example_8c449266</h3>"
      ],
      "text/plain": [
       "<IPython.core.display.HTML object>"
      ]
     },
     "metadata": {},
     "output_type": "display_data"
    },
    {
     "name": "stdout",
     "output_type": "stream",
     "text": [
      "Status Code: 403\n"
     ]
    },
    {
     "data": {
      "text/html": [
       "<div>\n",
       "<style scoped>\n",
       "    .dataframe tbody tr th:only-of-type {\n",
       "        vertical-align: middle;\n",
       "    }\n",
       "\n",
       "    .dataframe tbody tr th {\n",
       "        vertical-align: top;\n",
       "    }\n",
       "\n",
       "    .dataframe thead th {\n",
       "        text-align: right;\n",
       "    }\n",
       "</style>\n",
       "<table border=\"1\" class=\"dataframe\">\n",
       "  <thead>\n",
       "    <tr style=\"text-align: right;\">\n",
       "      <th></th>\n",
       "      <th>detail</th>\n",
       "    </tr>\n",
       "  </thead>\n",
       "  <tbody>\n",
       "    <tr>\n",
       "      <th>0</th>\n",
       "      <td>Not authorized to update this link</td>\n",
       "    </tr>\n",
       "  </tbody>\n",
       "</table>\n",
       "</div>"
      ],
      "text/plain": [
       "                               detail\n",
       "0  Not authorized to update this link"
      ]
     },
     "metadata": {},
     "output_type": "display_data"
    },
    {
     "name": "stdout",
     "output_type": "stream",
     "text": [
      "\n",
      "=== Тестирование поиска по оригинальному URL ===\n"
     ]
    },
    {
     "data": {
      "text/html": [
       "<h3>Создание ссылки для поиска</h3>"
      ],
      "text/plain": [
       "<IPython.core.display.HTML object>"
      ]
     },
     "metadata": {},
     "output_type": "display_data"
    },
    {
     "name": "stdout",
     "output_type": "stream",
     "text": [
      "Status Code: 200\n"
     ]
    },
    {
     "data": {
      "text/html": [
       "<div>\n",
       "<style scoped>\n",
       "    .dataframe tbody tr th:only-of-type {\n",
       "        vertical-align: middle;\n",
       "    }\n",
       "\n",
       "    .dataframe tbody tr th {\n",
       "        vertical-align: top;\n",
       "    }\n",
       "\n",
       "    .dataframe thead th {\n",
       "        text-align: right;\n",
       "    }\n",
       "</style>\n",
       "<table border=\"1\" class=\"dataframe\">\n",
       "  <thead>\n",
       "    <tr style=\"text-align: right;\">\n",
       "      <th></th>\n",
       "      <th>short_code</th>\n",
       "      <th>original_url</th>\n",
       "      <th>created_at</th>\n",
       "    </tr>\n",
       "  </thead>\n",
       "  <tbody>\n",
       "    <tr>\n",
       "      <th>0</th>\n",
       "      <td>jzLwGx</td>\n",
       "      <td>https://www.example.com/unique/url/3d675f41965...</td>\n",
       "      <td>2025-03-25T22:34:42.924378+00:00</td>\n",
       "    </tr>\n",
       "  </tbody>\n",
       "</table>\n",
       "</div>"
      ],
      "text/plain": [
       "  short_code                                       original_url  \\\n",
       "0     jzLwGx  https://www.example.com/unique/url/3d675f41965...   \n",
       "\n",
       "                         created_at  \n",
       "0  2025-03-25T22:34:42.924378+00:00  "
      ]
     },
     "metadata": {},
     "output_type": "display_data"
    },
    {
     "data": {
      "text/html": [
       "<h3>9. Поиск ссылки по оригинальному URL (новый эндпоинт)</h3>"
      ],
      "text/plain": [
       "<IPython.core.display.HTML object>"
      ]
     },
     "metadata": {},
     "output_type": "display_data"
    },
    {
     "name": "stdout",
     "output_type": "stream",
     "text": [
      "Status Code: 404\n"
     ]
    },
    {
     "data": {
      "text/html": [
       "<div>\n",
       "<style scoped>\n",
       "    .dataframe tbody tr th:only-of-type {\n",
       "        vertical-align: middle;\n",
       "    }\n",
       "\n",
       "    .dataframe tbody tr th {\n",
       "        vertical-align: top;\n",
       "    }\n",
       "\n",
       "    .dataframe thead th {\n",
       "        text-align: right;\n",
       "    }\n",
       "</style>\n",
       "<table border=\"1\" class=\"dataframe\">\n",
       "  <thead>\n",
       "    <tr style=\"text-align: right;\">\n",
       "      <th></th>\n",
       "      <th>detail</th>\n",
       "    </tr>\n",
       "  </thead>\n",
       "  <tbody>\n",
       "    <tr>\n",
       "      <th>0</th>\n",
       "      <td>Link not found</td>\n",
       "    </tr>\n",
       "  </tbody>\n",
       "</table>\n",
       "</div>"
      ],
      "text/plain": [
       "           detail\n",
       "0  Link not found"
      ]
     },
     "metadata": {},
     "output_type": "display_data"
    },
    {
     "name": "stdout",
     "output_type": "stream",
     "text": [
      "\n",
      "=== Тестирование получения истории истекших ссылок ===\n"
     ]
    },
    {
     "data": {
      "text/html": [
       "<h3>Создание ссылки с очень коротким временем жизни</h3>"
      ],
      "text/plain": [
       "<IPython.core.display.HTML object>"
      ]
     },
     "metadata": {},
     "output_type": "display_data"
    },
    {
     "name": "stdout",
     "output_type": "stream",
     "text": [
      "Status Code: 200\n"
     ]
    },
    {
     "data": {
      "text/html": [
       "<div>\n",
       "<style scoped>\n",
       "    .dataframe tbody tr th:only-of-type {\n",
       "        vertical-align: middle;\n",
       "    }\n",
       "\n",
       "    .dataframe tbody tr th {\n",
       "        vertical-align: top;\n",
       "    }\n",
       "\n",
       "    .dataframe thead th {\n",
       "        text-align: right;\n",
       "    }\n",
       "</style>\n",
       "<table border=\"1\" class=\"dataframe\">\n",
       "  <thead>\n",
       "    <tr style=\"text-align: right;\">\n",
       "      <th></th>\n",
       "      <th>short_code</th>\n",
       "      <th>original_url</th>\n",
       "      <th>created_at</th>\n",
       "    </tr>\n",
       "  </thead>\n",
       "  <tbody>\n",
       "    <tr>\n",
       "      <th>0</th>\n",
       "      <td>UaZKt6</td>\n",
       "      <td>https://example.com/expires-very-soon</td>\n",
       "      <td>2025-03-25T22:34:43.949864+00:00</td>\n",
       "    </tr>\n",
       "  </tbody>\n",
       "</table>\n",
       "</div>"
      ],
      "text/plain": [
       "  short_code                           original_url  \\\n",
       "0     UaZKt6  https://example.com/expires-very-soon   \n",
       "\n",
       "                         created_at  \n",
       "0  2025-03-25T22:34:43.949864+00:00  "
      ]
     },
     "metadata": {},
     "output_type": "display_data"
    },
    {
     "name": "stdout",
     "output_type": "stream",
     "text": [
      "Ожидаем истечения срока действия ссылки (3 секунды)...\n"
     ]
    },
    {
     "data": {
      "text/html": [
       "<h3>10. Получение истории истекших ссылок (новый эндпоинт)</h3>"
      ],
      "text/plain": [
       "<IPython.core.display.HTML object>"
      ]
     },
     "metadata": {},
     "output_type": "display_data"
    },
    {
     "name": "stdout",
     "output_type": "stream",
     "text": [
      "Status Code: 404\n"
     ]
    },
    {
     "data": {
      "text/html": [
       "<div>\n",
       "<style scoped>\n",
       "    .dataframe tbody tr th:only-of-type {\n",
       "        vertical-align: middle;\n",
       "    }\n",
       "\n",
       "    .dataframe tbody tr th {\n",
       "        vertical-align: top;\n",
       "    }\n",
       "\n",
       "    .dataframe thead th {\n",
       "        text-align: right;\n",
       "    }\n",
       "</style>\n",
       "<table border=\"1\" class=\"dataframe\">\n",
       "  <thead>\n",
       "    <tr style=\"text-align: right;\">\n",
       "      <th></th>\n",
       "      <th>detail</th>\n",
       "    </tr>\n",
       "  </thead>\n",
       "  <tbody>\n",
       "    <tr>\n",
       "      <th>0</th>\n",
       "      <td>Link not found</td>\n",
       "    </tr>\n",
       "  </tbody>\n",
       "</table>\n",
       "</div>"
      ],
      "text/plain": [
       "           detail\n",
       "0  Link not found"
      ]
     },
     "metadata": {},
     "output_type": "display_data"
    },
    {
     "name": "stdout",
     "output_type": "stream",
     "text": [
      "\n",
      "=== Тестирование настройки автоматического удаления ===\n"
     ]
    },
    {
     "data": {
      "text/html": [
       "<h3>11. Настройка автоматического удаления неиспользуемых ссылок</h3>"
      ],
      "text/plain": [
       "<IPython.core.display.HTML object>"
      ]
     },
     "metadata": {},
     "output_type": "display_data"
    },
    {
     "name": "stdout",
     "output_type": "stream",
     "text": [
      "Status Code: 200\n"
     ]
    },
    {
     "data": {
      "text/html": [
       "<div>\n",
       "<style scoped>\n",
       "    .dataframe tbody tr th:only-of-type {\n",
       "        vertical-align: middle;\n",
       "    }\n",
       "\n",
       "    .dataframe tbody tr th {\n",
       "        vertical-align: top;\n",
       "    }\n",
       "\n",
       "    .dataframe thead th {\n",
       "        text-align: right;\n",
       "    }\n",
       "</style>\n",
       "<table border=\"1\" class=\"dataframe\">\n",
       "  <thead>\n",
       "    <tr style=\"text-align: right;\">\n",
       "      <th></th>\n",
       "      <th>message</th>\n",
       "    </tr>\n",
       "  </thead>\n",
       "  <tbody>\n",
       "    <tr>\n",
       "      <th>0</th>\n",
       "      <td>Deactivated 0 links unused for 30 days</td>\n",
       "    </tr>\n",
       "  </tbody>\n",
       "</table>\n",
       "</div>"
      ],
      "text/plain": [
       "                                  message\n",
       "0  Deactivated 0 links unused for 30 days"
      ]
     },
     "metadata": {},
     "output_type": "display_data"
    },
    {
     "name": "stdout",
     "output_type": "stream",
     "text": [
      "\n",
      "=== Тестирование удаления ссылки ===\n"
     ]
    },
    {
     "data": {
      "text/html": [
       "<h3>Создание ссылки для удаления</h3>"
      ],
      "text/plain": [
       "<IPython.core.display.HTML object>"
      ]
     },
     "metadata": {},
     "output_type": "display_data"
    },
    {
     "name": "stdout",
     "output_type": "stream",
     "text": [
      "Status Code: 200\n"
     ]
    },
    {
     "data": {
      "text/html": [
       "<div>\n",
       "<style scoped>\n",
       "    .dataframe tbody tr th:only-of-type {\n",
       "        vertical-align: middle;\n",
       "    }\n",
       "\n",
       "    .dataframe tbody tr th {\n",
       "        vertical-align: top;\n",
       "    }\n",
       "\n",
       "    .dataframe thead th {\n",
       "        text-align: right;\n",
       "    }\n",
       "</style>\n",
       "<table border=\"1\" class=\"dataframe\">\n",
       "  <thead>\n",
       "    <tr style=\"text-align: right;\">\n",
       "      <th></th>\n",
       "      <th>short_code</th>\n",
       "      <th>original_url</th>\n",
       "      <th>created_at</th>\n",
       "    </tr>\n",
       "  </thead>\n",
       "  <tbody>\n",
       "    <tr>\n",
       "      <th>0</th>\n",
       "      <td>delete_3f32c5fd</td>\n",
       "      <td>https://www.example.com/link/to/be/deleted</td>\n",
       "      <td>2025-03-25T22:34:46.986622+00:00</td>\n",
       "    </tr>\n",
       "  </tbody>\n",
       "</table>\n",
       "</div>"
      ],
      "text/plain": [
       "        short_code                                original_url  \\\n",
       "0  delete_3f32c5fd  https://www.example.com/link/to/be/deleted   \n",
       "\n",
       "                         created_at  \n",
       "0  2025-03-25T22:34:46.986622+00:00  "
      ]
     },
     "metadata": {},
     "output_type": "display_data"
    },
    {
     "name": "stdout",
     "output_type": "stream",
     "text": [
      "8. Удаление ссылки delete_3f32c5fd\n",
      "Status Code: 204\n",
      "Ссылка успешно удалена!\n",
      "Подтверждено: ссылка не найдена после удаления.\n",
      "\n",
      "=== ИТОГОВЫЕ РЕЗУЛЬТАТЫ ТЕСТИРОВАНИЯ ===\n"
     ]
    },
    {
     "data": {
      "text/html": [
       "<div>\n",
       "<style scoped>\n",
       "    .dataframe tbody tr th:only-of-type {\n",
       "        vertical-align: middle;\n",
       "    }\n",
       "\n",
       "    .dataframe tbody tr th {\n",
       "        vertical-align: top;\n",
       "    }\n",
       "\n",
       "    .dataframe thead th {\n",
       "        text-align: right;\n",
       "    }\n",
       "</style>\n",
       "<table border=\"1\" class=\"dataframe\">\n",
       "  <thead>\n",
       "    <tr style=\"text-align: right;\">\n",
       "      <th></th>\n",
       "      <th>Тест</th>\n",
       "      <th>Результат</th>\n",
       "    </tr>\n",
       "  </thead>\n",
       "  <tbody>\n",
       "    <tr>\n",
       "      <th>0</th>\n",
       "      <td>Получение информации о ссылке</td>\n",
       "      <td>✅ Успешно</td>\n",
       "    </tr>\n",
       "    <tr>\n",
       "      <th>1</th>\n",
       "      <td>Получение статистики по ссылке</td>\n",
       "      <td>✅ Успешно</td>\n",
       "    </tr>\n",
       "    <tr>\n",
       "      <th>2</th>\n",
       "      <td>Перенаправление по короткой ссылке</td>\n",
       "      <td>❌ Ошибка</td>\n",
       "    </tr>\n",
       "    <tr>\n",
       "      <th>3</th>\n",
       "      <td>Обновление ссылки</td>\n",
       "      <td>❌ Ошибка</td>\n",
       "    </tr>\n",
       "    <tr>\n",
       "      <th>4</th>\n",
       "      <td>Поиск ссылки по оригинальному URL</td>\n",
       "      <td>❌ Ошибка</td>\n",
       "    </tr>\n",
       "    <tr>\n",
       "      <th>5</th>\n",
       "      <td>Получение истории истекших ссылок</td>\n",
       "      <td>❌ Ошибка</td>\n",
       "    </tr>\n",
       "    <tr>\n",
       "      <th>6</th>\n",
       "      <td>Настройка автоудаления неиспользуемых ссылок</td>\n",
       "      <td>✅ Успешно</td>\n",
       "    </tr>\n",
       "    <tr>\n",
       "      <th>7</th>\n",
       "      <td>Удаление ссылки</td>\n",
       "      <td>✅ Успешно</td>\n",
       "    </tr>\n",
       "  </tbody>\n",
       "</table>\n",
       "</div>"
      ],
      "text/plain": [
       "                                           Тест  Результат\n",
       "0                 Получение информации о ссылке  ✅ Успешно\n",
       "1                Получение статистики по ссылке  ✅ Успешно\n",
       "2            Перенаправление по короткой ссылке   ❌ Ошибка\n",
       "3                             Обновление ссылки   ❌ Ошибка\n",
       "4             Поиск ссылки по оригинальному URL   ❌ Ошибка\n",
       "5             Получение истории истекших ссылок   ❌ Ошибка\n",
       "6  Настройка автоудаления неиспользуемых ссылок  ✅ Успешно\n",
       "7                               Удаление ссылки  ✅ Успешно"
      ]
     },
     "metadata": {},
     "output_type": "display_data"
    },
    {
     "name": "stdout",
     "output_type": "stream",
     "text": [
      "\n",
      "Успешно выполнено 4 из 8 тестов (50.00%)\n",
      "❌ Значительное количество тестов не пройдено. Требуется серьезная доработка API.\n"
     ]
    }
   ],
   "source": [
    "# Функция для запуска всех тестов\n",
    "def run_all_tests():\n",
    "    results = []\n",
    "    \n",
    "    # Тестируем получение информации и статистики\n",
    "    print(\"\\n=== Тестирование получения информации и статистики ===\")\n",
    "    if short_code1:\n",
    "        info_success = test_get_link_info(short_code1)\n",
    "        stats_success = test_get_link_stats(short_code1)\n",
    "        results.append({\"Тест\": \"Получение информации о ссылке\", \"Результат\": \"✅ Успешно\" if info_success else \"❌ Ошибка\"})\n",
    "        results.append({\"Тест\": \"Получение статистики по ссылке\", \"Результат\": \"✅ Успешно\" if stats_success else \"❌ Ошибка\"})\n",
    "    \n",
    "    # Тестируем перенаправление\n",
    "    print(\"\\n=== Тестирование перенаправления ===\")\n",
    "    if short_code1:\n",
    "        redirect_success = test_redirect(short_code1)\n",
    "        results.append({\"Тест\": \"Перенаправление по короткой ссылке\", \"Результат\": \"✅ Успешно\" if redirect_success else \"❌ Ошибка\"})\n",
    "    \n",
    "    # Тестируем обновление ссылки\n",
    "    print(\"\\n=== Тестирование обновления ссылки ===\")\n",
    "    if short_code1:\n",
    "        update_success = test_update_link(short_code1)\n",
    "        results.append({\"Тест\": \"Обновление ссылки\", \"Результат\": \"✅ Успешно\" if update_success else \"❌ Ошибка\"})\n",
    "    \n",
    "    # Тестируем поиск ссылки по оригинальному URL\n",
    "    print(\"\\n=== Тестирование поиска по оригинальному URL ===\")\n",
    "    search_success = test_search_by_original_url()\n",
    "    results.append({\"Тест\": \"Поиск ссылки по оригинальному URL\", \"Результат\": \"✅ Успешно\" if search_success else \"❌ Ошибка\"})\n",
    "    \n",
    "    # Тестируем получение истории истекших ссылок\n",
    "    print(\"\\n=== Тестирование получения истории истекших ссылок ===\")\n",
    "    expired_success = test_get_expired_links()\n",
    "    results.append({\"Тест\": \"Получение истории истекших ссылок\", \"Результат\": \"✅ Успешно\" if expired_success else \"❌ Ошибка\"})\n",
    "    \n",
    "    # Тестируем настройку автоматического удаления\n",
    "    print(\"\\n=== Тестирование настройки автоматического удаления ===\")\n",
    "    cleanup_success = test_cleanup_unused_links()\n",
    "    results.append({\"Тест\": \"Настройка автоудаления неиспользуемых ссылок\", \"Результат\": \"✅ Успешно\" if cleanup_success else \"❌ Ошибка\"})\n",
    "    \n",
    "    # Тестируем удаление ссылки\n",
    "    print(\"\\n=== Тестирование удаления ссылки ===\")\n",
    "    delete_code = create_link_for_deletion()\n",
    "    if delete_code:\n",
    "        delete_success = test_delete_link(delete_code)\n",
    "        results.append({\"Тест\": \"Удаление ссылки\", \"Результат\": \"✅ Успешно\" if delete_success else \"❌ Ошибка\"})\n",
    "    \n",
    "    # Выводим итоговую таблицу результатов\n",
    "    print(\"\\n=== ИТОГОВЫЕ РЕЗУЛЬТАТЫ ТЕСТИРОВАНИЯ ===\")\n",
    "    results_df = pd.DataFrame(results)\n",
    "    display(results_df)\n",
    "    \n",
    "    # Подсчитываем общий результат\n",
    "    success_count = results_df[results_df[\"Результат\"].str.contains(\"✅\")].shape[0]\n",
    "    total_count = results_df.shape[0]\n",
    "    success_rate = (success_count / total_count) * 100\n",
    "    \n",
    "    print(f\"\\nУспешно выполнено {success_count} из {total_count} тестов ({success_rate:.2f}%)\")\n",
    "    \n",
    "    if success_rate == 100:\n",
    "        print(\"🎉 Все тесты успешно пройдены! API полностью функционален.\")\n",
    "    elif success_rate >= 80:\n",
    "        print(\"🔶 Большинство тестов пройдено успешно. Некоторые функции требуют доработки.\")\n",
    "    else:\n",
    "        print(\"❌ Значительное количество тестов не пройдено. Требуется серьезная доработка API.\")\n",
    "\n",
    "# Запускаем все тесты\n",
    "run_all_tests()"
   ]
  },
  {
   "cell_type": "code",
   "execution_count": null,
   "metadata": {},
   "outputs": [],
   "source": []
  },
  {
   "cell_type": "code",
   "execution_count": null,
   "metadata": {},
   "outputs": [],
   "source": []
  },
  {
   "cell_type": "code",
   "execution_count": null,
   "metadata": {},
   "outputs": [],
   "source": []
  },
  {
   "cell_type": "code",
   "execution_count": null,
   "metadata": {},
   "outputs": [],
   "source": []
  },
  {
   "cell_type": "code",
   "execution_count": null,
   "metadata": {},
   "outputs": [],
   "source": []
  },
  {
   "cell_type": "code",
   "execution_count": null,
   "metadata": {},
   "outputs": [],
   "source": []
  },
  {
   "cell_type": "code",
   "execution_count": null,
   "metadata": {},
   "outputs": [],
   "source": []
  },
  {
   "cell_type": "code",
   "execution_count": null,
   "metadata": {},
   "outputs": [],
   "source": []
  },
  {
   "cell_type": "code",
   "execution_count": null,
   "metadata": {},
   "outputs": [],
   "source": [
    "docker-compose down\n",
    "docker-compose up --build -d\n"
   ]
  }
 ],
 "metadata": {
  "kernelspec": {
   "display_name": "Python 3",
   "language": "python",
   "name": "python3"
  },
  "language_info": {
   "codemirror_mode": {
    "name": "ipython",
    "version": 3
   },
   "file_extension": ".py",
   "mimetype": "text/x-python",
   "name": "python",
   "nbconvert_exporter": "python",
   "pygments_lexer": "ipython3",
   "version": "3.12.1"
  }
 },
 "nbformat": 4,
 "nbformat_minor": 2
}
